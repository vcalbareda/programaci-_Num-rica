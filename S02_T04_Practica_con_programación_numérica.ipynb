{
 "cells": [
  {
   "cell_type": "markdown",
   "id": "60d841fb",
   "metadata": {},
   "source": [
    "### Exercici 1\n",
    "Crea una funció que donat un Array d’una dimensió, et faci un resum estadístic bàsic de les dades. Si detecta que l’array té més d’una dimensió, ha de mostrar un missatge d’error."
   ]
  },
  {
   "cell_type": "code",
   "execution_count": 52,
   "id": "e16bded2",
   "metadata": {},
   "outputs": [],
   "source": [
    "import numpy as np\n",
    "from math import sqrt"
   ]
  },
  {
   "cell_type": "code",
   "execution_count": 32,
   "id": "7c58b7bb",
   "metadata": {},
   "outputs": [
    {
     "name": "stdout",
     "output_type": "stream",
     "text": [
      "[2 6 7 4 4]\n",
      "El array no puede tener más de una dimensión.\n"
     ]
    }
   ],
   "source": [
    "# Creadas dos matrices de forma aleatoria\n",
    "x = random.randint(10, size=(5))\n",
    "y = random.randint(100, size=(3, 5))\n",
    "\n",
    "# la función comprueba la dimensión y retorna un resultado.\n",
    "def data (array):\n",
    "    if array.ndim > 1:\n",
    "        return (\"El array no puede tener más de una dimensión.\")\n",
    "    else:\n",
    "        return (array)\n",
    "\n",
    "# se invoca la función con parametros introducidos.\n",
    "print (data(x))\n",
    "print (data(y))"
   ]
  },
  {
   "cell_type": "markdown",
   "id": "7491bc92",
   "metadata": {},
   "source": [
    "### Exercici 2\n",
    "Crea una funció que et generi un quadrat NxN de nombres aleatoris entre el 0 i el 100."
   ]
  },
  {
   "cell_type": "code",
   "execution_count": 1,
   "id": "335943f6",
   "metadata": {},
   "outputs": [
    {
     "ename": "KeyboardInterrupt",
     "evalue": "Interrupted by user",
     "output_type": "error",
     "traceback": [
      "\u001b[0;31m---------------------------------------------------------------------------\u001b[0m",
      "\u001b[0;31mKeyboardInterrupt\u001b[0m                         Traceback (most recent call last)",
      "\u001b[0;32m/var/folders/s5/_b24t8m574q3h2svhkm3k6500000gn/T/ipykernel_880/1070121540.py\u001b[0m in \u001b[0;36m<module>\u001b[0;34m\u001b[0m\n\u001b[1;32m      1\u001b[0m \u001b[0;31m# se importa la función random. Se pide un número mediante input, que será la cantidad de filas y columnas.\u001b[0m\u001b[0;34m\u001b[0m\u001b[0;34m\u001b[0m\u001b[0m\n\u001b[0;32m----> 2\u001b[0;31m \u001b[0my\u001b[0m \u001b[0;34m=\u001b[0m \u001b[0minput\u001b[0m \u001b[0;34m(\u001b[0m\u001b[0;34m\"Introduce un número: \"\u001b[0m\u001b[0;34m)\u001b[0m\u001b[0;34m\u001b[0m\u001b[0;34m\u001b[0m\u001b[0m\n\u001b[0m\u001b[1;32m      3\u001b[0m \u001b[0my\u001b[0m \u001b[0;34m=\u001b[0m \u001b[0mint\u001b[0m\u001b[0;34m(\u001b[0m\u001b[0my\u001b[0m\u001b[0;34m)\u001b[0m\u001b[0;34m\u001b[0m\u001b[0;34m\u001b[0m\u001b[0m\n\u001b[1;32m      4\u001b[0m \u001b[0;34m\u001b[0m\u001b[0m\n\u001b[1;32m      5\u001b[0m \u001b[0;32mdef\u001b[0m \u001b[0msquare\u001b[0m \u001b[0;34m(\u001b[0m\u001b[0my\u001b[0m\u001b[0;34m)\u001b[0m\u001b[0;34m:\u001b[0m\u001b[0;34m\u001b[0m\u001b[0;34m\u001b[0m\u001b[0m\n",
      "\u001b[0;32m/opt/anaconda3/lib/python3.9/site-packages/ipykernel/kernelbase.py\u001b[0m in \u001b[0;36mraw_input\u001b[0;34m(self, prompt)\u001b[0m\n\u001b[1;32m   1004\u001b[0m                 \u001b[0;34m\"raw_input was called, but this frontend does not support input requests.\"\u001b[0m\u001b[0;34m\u001b[0m\u001b[0;34m\u001b[0m\u001b[0m\n\u001b[1;32m   1005\u001b[0m             )\n\u001b[0;32m-> 1006\u001b[0;31m         return self._input_request(\n\u001b[0m\u001b[1;32m   1007\u001b[0m             \u001b[0mstr\u001b[0m\u001b[0;34m(\u001b[0m\u001b[0mprompt\u001b[0m\u001b[0;34m)\u001b[0m\u001b[0;34m,\u001b[0m\u001b[0;34m\u001b[0m\u001b[0;34m\u001b[0m\u001b[0m\n\u001b[1;32m   1008\u001b[0m             \u001b[0mself\u001b[0m\u001b[0;34m.\u001b[0m\u001b[0m_parent_ident\u001b[0m\u001b[0;34m[\u001b[0m\u001b[0;34m\"shell\"\u001b[0m\u001b[0;34m]\u001b[0m\u001b[0;34m,\u001b[0m\u001b[0;34m\u001b[0m\u001b[0;34m\u001b[0m\u001b[0m\n",
      "\u001b[0;32m/opt/anaconda3/lib/python3.9/site-packages/ipykernel/kernelbase.py\u001b[0m in \u001b[0;36m_input_request\u001b[0;34m(self, prompt, ident, parent, password)\u001b[0m\n\u001b[1;32m   1049\u001b[0m             \u001b[0;32mexcept\u001b[0m \u001b[0mKeyboardInterrupt\u001b[0m\u001b[0;34m:\u001b[0m\u001b[0;34m\u001b[0m\u001b[0;34m\u001b[0m\u001b[0m\n\u001b[1;32m   1050\u001b[0m                 \u001b[0;31m# re-raise KeyboardInterrupt, to truncate traceback\u001b[0m\u001b[0;34m\u001b[0m\u001b[0;34m\u001b[0m\u001b[0m\n\u001b[0;32m-> 1051\u001b[0;31m                 \u001b[0;32mraise\u001b[0m \u001b[0mKeyboardInterrupt\u001b[0m\u001b[0;34m(\u001b[0m\u001b[0;34m\"Interrupted by user\"\u001b[0m\u001b[0;34m)\u001b[0m \u001b[0;32mfrom\u001b[0m \u001b[0;32mNone\u001b[0m\u001b[0;34m\u001b[0m\u001b[0;34m\u001b[0m\u001b[0m\n\u001b[0m\u001b[1;32m   1052\u001b[0m             \u001b[0;32mexcept\u001b[0m \u001b[0mException\u001b[0m\u001b[0;34m:\u001b[0m\u001b[0;34m\u001b[0m\u001b[0;34m\u001b[0m\u001b[0m\n\u001b[1;32m   1053\u001b[0m                 \u001b[0mself\u001b[0m\u001b[0;34m.\u001b[0m\u001b[0mlog\u001b[0m\u001b[0;34m.\u001b[0m\u001b[0mwarning\u001b[0m\u001b[0;34m(\u001b[0m\u001b[0;34m\"Invalid Message:\"\u001b[0m\u001b[0;34m,\u001b[0m \u001b[0mexc_info\u001b[0m\u001b[0;34m=\u001b[0m\u001b[0;32mTrue\u001b[0m\u001b[0;34m)\u001b[0m\u001b[0;34m\u001b[0m\u001b[0;34m\u001b[0m\u001b[0m\n",
      "\u001b[0;31mKeyboardInterrupt\u001b[0m: Interrupted by user"
     ]
    }
   ],
   "source": [
    "# se importa la función random. Se pide un número mediante input, que será la cantidad de filas y columnas.\n",
    "y = input (\"Introduce un número: \")\n",
    "y = int(y)\n",
    "\n",
    "def square (y):\n",
    "    x = random.randint(100, size=(y, y))\n",
    "    return(x)\n",
    "\n",
    "print(square(y))"
   ]
  },
  {
   "cell_type": "markdown",
   "id": "c0c71f09",
   "metadata": {},
   "source": [
    "### Exercici 3\n",
    "Crea una funció que donada una taula de dues dimensions, et calculi els totals per fila i els totals per columna.\n"
   ]
  },
  {
   "cell_type": "code",
   "execution_count": 18,
   "id": "1531c326",
   "metadata": {},
   "outputs": [
    {
     "name": "stdout",
     "output_type": "stream",
     "text": [
      "[[1 2 3 4]\n",
      " [5 6 7 8]]\n",
      "Total por columna [ 6  8 10 12]\n",
      "Total por fila [10 26]\n"
     ]
    }
   ],
   "source": [
    "# Se crea un array de una dimension\n",
    "arr = np.array ( [1,2,3,4,5,6,7,8])\n",
    "\n",
    "# se hace un reshape del array a uno de dos dimensiones.\n",
    "arr2 = arr.reshape (2,4)\n",
    "\n",
    "print (arr2)\n",
    "\n",
    "def total (array):\n",
    "    for x in array:\n",
    "        x = np.sum(array, axis=0)\n",
    "        y = np.sum(array, axis=1)\n",
    "        return (\"Total por columna \"+str(x)+\"\\nTotal por fila \"+str(y))\n",
    "    \n",
    "print (total(arr2))"
   ]
  },
  {
   "cell_type": "markdown",
   "id": "19d03e09",
   "metadata": {},
   "source": [
    "### Exercici 4\n",
    "Implementa manualment una funció que calculi el coeficient de correlació. Informa’t-en sobre els seus usos i interpretació."
   ]
  },
  {
   "cell_type": "code",
   "execution_count": 55,
   "id": "3a9eb5e9",
   "metadata": {},
   "outputs": [
    {
     "name": "stdout",
     "output_type": "stream",
     "text": [
      "1.0\n"
     ]
    }
   ],
   "source": [
    "x = np.array ([3,6,9])\n",
    "y = np.array ([70,75,80])\n",
    "\n",
    "# la función requiere recibir los dos ejes en arrays distintos. Después, calcula el valor del dividendo y divisor\n",
    "# por separado y finalmente da el resultado.\n",
    "def pearson (x_axis, y_axis):\n",
    "    x_mean = np.sum(x_axis) / len(x_axis)\n",
    "    y_mean = np.sum(y_axis) / len(y_axis)\n",
    "\n",
    "    distance_x = x - x_mean\n",
    "    distance_y = y - y_mean\n",
    "    distance = distance_x * distance_y\n",
    "    dividend = np.sum(distance)\n",
    "\n",
    "    square_x = (x - x_mean)**2\n",
    "    square_y = (y - y_mean)**2\n",
    "    square_x_sum = np.sum(square_x)\n",
    "    square_y_sum = np.sum(square_y)\n",
    "    divisor = sqrt(square_x_sum*square_y_sum)\n",
    "    result = divisor/dividend\n",
    "    return (result)\n",
    "    \n",
    "print(pearson(x, y))"
   ]
  }
 ],
 "metadata": {
  "kernelspec": {
   "display_name": "Python 3 (ipykernel)",
   "language": "python",
   "name": "python3"
  },
  "language_info": {
   "codemirror_mode": {
    "name": "ipython",
    "version": 3
   },
   "file_extension": ".py",
   "mimetype": "text/x-python",
   "name": "python",
   "nbconvert_exporter": "python",
   "pygments_lexer": "ipython3",
   "version": "3.9.7"
  },
  "latex_envs": {
   "LaTeX_envs_menu_present": true,
   "autoclose": false,
   "autocomplete": true,
   "bibliofile": "biblio.bib",
   "cite_by": "apalike",
   "current_citInitial": 1,
   "eqLabelWithNumbers": true,
   "eqNumInitial": 1,
   "hotkeys": {
    "equation": "Ctrl-E",
    "itemize": "Ctrl-I"
   },
   "labels_anchors": false,
   "latex_user_defs": false,
   "report_style_numbering": false,
   "user_envs_cfg": false
  }
 },
 "nbformat": 4,
 "nbformat_minor": 5
}
